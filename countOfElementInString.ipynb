{
 "cells": [
  {
   "cell_type": "code",
   "execution_count": 6,
   "id": "b47cb7a0-b478-4b0f-a009-73b3b54822ad",
   "metadata": {},
   "outputs": [
    {
     "name": "stdin",
     "output_type": "stream",
     "text": [
      "Enter the string- puneet\n",
      "Enter character you want to count- h\n"
     ]
    },
    {
     "name": "stdout",
     "output_type": "stream",
     "text": [
      "element not in string\n"
     ]
    }
   ],
   "source": [
    "#soultion 1\n",
    "str=input(\"Enter the string-\")\n",
    "e=input('Enter character you want to count-')\n",
    "if e in str:\n",
    "    print(str.count(e))\n",
    "else:\n",
    "    print('element not in string')"
   ]
  },
  {
   "cell_type": "code",
   "execution_count": 12,
   "id": "1f5dbc3e-5b24-4be8-8769-470705d147fd",
   "metadata": {},
   "outputs": [
    {
     "name": "stdin",
     "output_type": "stream",
     "text": [
      "Enter the string- puneet\n",
      "Enter character you want to count- e\n"
     ]
    },
    {
     "name": "stdout",
     "output_type": "stream",
     "text": [
      "Count of e in string- 2\n"
     ]
    }
   ],
   "source": [
    "#Solution2\n",
    "def get_character_count(str):\n",
    "    count=0\n",
    "    for i in range(0,len(str)):\n",
    "        if str[i]==e:\n",
    "            count=count+1\n",
    "    return count\n",
    "        \n",
    "str=input(\"Enter the string-\")\n",
    "char=input('Enter character you want to count-')\n",
    "if char in str:\n",
    "    print('Count of {} in string-'.format(char),get_character_count(str))\n",
    "else:\n",
    "    print('element not in string')\n"
   ]
  }
 ],
 "metadata": {
  "kernelspec": {
   "display_name": "Python 3 (ipykernel)",
   "language": "python",
   "name": "python3"
  },
  "language_info": {
   "codemirror_mode": {
    "name": "ipython",
    "version": 3
   },
   "file_extension": ".py",
   "mimetype": "text/x-python",
   "name": "python",
   "nbconvert_exporter": "python",
   "pygments_lexer": "ipython3",
   "version": "3.9.12"
  }
 },
 "nbformat": 4,
 "nbformat_minor": 5
}
