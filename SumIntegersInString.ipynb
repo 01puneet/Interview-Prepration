{
 "cells": [
  {
   "cell_type": "code",
   "execution_count": 5,
   "id": "338a028e-4d6d-4db0-9f1f-de8d6ea1720f",
   "metadata": {},
   "outputs": [
    {
     "name": "stdin",
     "output_type": "stream",
     "text": [
      "Enter string- h 99 9\n"
     ]
    },
    {
     "name": "stdout",
     "output_type": "stream",
     "text": [
      "27\n"
     ]
    }
   ],
   "source": [
    "def sum_integersIn_string(str):#define function\n",
    "    total=0#initially total sum=0\n",
    "    for i in range(0,len(str)):#loop the string from 0 to length\n",
    "        if str[i].isdigit():#if value of string is digit\n",
    "            total=total +int(str[i])#then add the value\n",
    "    return total #return ttal\n",
    "    \n",
    "str=input(\"Enter string-\")\n",
    "print(sum_integersIn_string(str))"
   ]
  },
  {
   "cell_type": "code",
   "execution_count": null,
   "id": "d24c00dd-8d8e-480f-9eb2-15d624055e14",
   "metadata": {},
   "outputs": [],
   "source": []
  }
 ],
 "metadata": {
  "kernelspec": {
   "display_name": "Python 3 (ipykernel)",
   "language": "python",
   "name": "python3"
  },
  "language_info": {
   "codemirror_mode": {
    "name": "ipython",
    "version": 3
   },
   "file_extension": ".py",
   "mimetype": "text/x-python",
   "name": "python",
   "nbconvert_exporter": "python",
   "pygments_lexer": "ipython3",
   "version": "3.9.12"
  }
 },
 "nbformat": 4,
 "nbformat_minor": 5
}
