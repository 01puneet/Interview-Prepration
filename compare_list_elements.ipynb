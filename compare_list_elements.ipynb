{
 "cells": [
  {
   "cell_type": "code",
   "execution_count": 14,
   "id": "7e1d5d2e-b3cf-48cd-9218-2c2bd78bc1ed",
   "metadata": {},
   "outputs": [
    {
     "name": "stdout",
     "output_type": "stream",
     "text": [
      "Both lists are of same length but elements are different.\n"
     ]
    }
   ],
   "source": [
    "def compare_list_elements(l1,l2):\n",
    "    count=0\n",
    "    for i in range(0,len(l1)):\n",
    "        for j in range(0,len(l2)):\n",
    "            if l1[i]==l2[j]:\n",
    "                 count+=1\n",
    "    return count\n",
    "\n",
    "l1=[20,30,0]\n",
    "l2=[20,30,40]\n",
    "if len(l1)==len(l2):\n",
    "    result=compare_list_elements(l1,l2)\n",
    "    if result==len(l1):\n",
    "        print('Both lists are of same length & same elements.')\n",
    "    else:\n",
    "        print('Both lists are of same length but elements are different.')\n",
    "        \n",
    "else:\n",
    "    print('lists are not equal')"
   ]
  },
  {
   "cell_type": "code",
   "execution_count": 12,
   "id": "efd0a768-73fa-4f20-84b6-0c358fdcb237",
   "metadata": {},
   "outputs": [
    {
     "name": "stdout",
     "output_type": "stream",
     "text": [
      "20 20\n"
     ]
    },
    {
     "data": {
      "text/plain": [
       "True"
      ]
     },
     "execution_count": 12,
     "metadata": {},
     "output_type": "execute_result"
    }
   ],
   "source": []
  },
  {
   "cell_type": "code",
   "execution_count": null,
   "id": "4ebab1ad-9737-448e-a102-d44f0cc91853",
   "metadata": {},
   "outputs": [],
   "source": []
  }
 ],
 "metadata": {
  "kernelspec": {
   "display_name": "Python 3 (ipykernel)",
   "language": "python",
   "name": "python3"
  },
  "language_info": {
   "codemirror_mode": {
    "name": "ipython",
    "version": 3
   },
   "file_extension": ".py",
   "mimetype": "text/x-python",
   "name": "python",
   "nbconvert_exporter": "python",
   "pygments_lexer": "ipython3",
   "version": "3.9.12"
  }
 },
 "nbformat": 4,
 "nbformat_minor": 5
}
