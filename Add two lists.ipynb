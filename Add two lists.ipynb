{
 "cells": [
  {
   "cell_type": "code",
   "execution_count": 9,
   "id": "0cfcb382-379a-4bec-80ab-d1264cb16d6f",
   "metadata": {},
   "outputs": [],
   "source": [
    "\"\"\"\n",
    "l1=[2,4,3]\n",
    "l2=[5,6,4]\n",
    "342+465=807\n",
    "\"\"\""
   ]
  },
  {
   "cell_type": "code",
   "execution_count": 15,
   "id": "41676d42-ba52-4283-8683-f872e29c5661",
   "metadata": {},
   "outputs": [
    {
     "data": {
      "text/plain": [
       "807"
      ]
     },
     "execution_count": 15,
     "metadata": {},
     "output_type": "execute_result"
    }
   ],
   "source": [
    "#solution- to add 2 reverse lists\n",
    "class Solution(object):\n",
    "    def addTwoNumbers(self, l1, l2):\n",
    "        s1 = ''.join([str(n) for n in l1])\n",
    "        s2=''.join([str(n) for n in l2])\n",
    "        n1=s1[::-1]\n",
    "        n2=s2[::-1]\n",
    "        r=int(n1)+int(n2)\n",
    "        return r\n",
    "    \n",
    "\n",
    "l1=[2,4,3]\n",
    "l2=[5,6,4]\n",
    "obj=Solution()\n",
    "obj.addTwoNumbers(l1,l2)"
   ]
  },
  {
   "cell_type": "code",
   "execution_count": null,
   "id": "f7601e44-f202-4cbb-8107-6bb65d4db9f8",
   "metadata": {},
   "outputs": [],
   "source": []
  }
 ],
 "metadata": {
  "kernelspec": {
   "display_name": "Python 3 (ipykernel)",
   "language": "python",
   "name": "python3"
  },
  "language_info": {
   "codemirror_mode": {
    "name": "ipython",
    "version": 3
   },
   "file_extension": ".py",
   "mimetype": "text/x-python",
   "name": "python",
   "nbconvert_exporter": "python",
   "pygments_lexer": "ipython3",
   "version": "3.9.12"
  }
 },
 "nbformat": 4,
 "nbformat_minor": 5
}
