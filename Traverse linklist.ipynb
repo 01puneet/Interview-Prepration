{
 "cells": [
  {
   "cell_type": "code",
   "execution_count": 4,
   "id": "f8fc3da2-a388-41d4-8fbf-134307dec01f",
   "metadata": {},
   "outputs": [
    {
     "name": "stdout",
     "output_type": "stream",
     "text": [
      "100\n",
      "200\n",
      "300\n"
     ]
    }
   ],
   "source": [
    "class Linklist_Node:#creating a node class\n",
    "    def __init__(self,data=None): #default data is None \n",
    "        self.data=data #updating data with data\n",
    "        self.next=None # setting pointer is None\n",
    "        \n",
    "class Single_linklist:\n",
    "    def __init__(self):\n",
    "        self.head=None# initially linklist empty\n",
    "        \n",
    "    def display_list(self):\n",
    "        val = self.head# value poointing to head\n",
    "        while val is not None: #if head is not none\n",
    "            print (val.data) #print value\n",
    "            val = val.next #update value to value of next\n",
    "            \n",
    "obj=Single_linklist() #creating object of single linklist()\n",
    "obj.head=Linklist_Node(100) #pointing head to 100\n",
    "obj2=Linklist_Node(200)\n",
    "obj3=Linklist_Node(300)\n",
    "obj.head.next=obj2#100 is pointing to 200\n",
    "obj2.next=obj3 #200 is pointing to 300\n",
    "obj.display_list()\n"
   ]
  },
  {
   "cell_type": "code",
   "execution_count": null,
   "id": "0106a0cf-904a-45d4-a3ac-c2ca07e522ea",
   "metadata": {},
   "outputs": [],
   "source": []
  }
 ],
 "metadata": {
  "kernelspec": {
   "display_name": "Python 3 (ipykernel)",
   "language": "python",
   "name": "python3"
  },
  "language_info": {
   "codemirror_mode": {
    "name": "ipython",
    "version": 3
   },
   "file_extension": ".py",
   "mimetype": "text/x-python",
   "name": "python",
   "nbconvert_exporter": "python",
   "pygments_lexer": "ipython3",
   "version": "3.9.12"
  }
 },
 "nbformat": 4,
 "nbformat_minor": 5
}
