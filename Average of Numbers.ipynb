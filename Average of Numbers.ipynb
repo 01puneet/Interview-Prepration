{
 "cells": [
  {
   "cell_type": "code",
   "execution_count": 9,
   "id": "da77663f-4f37-43aa-a5d2-6d438920e3da",
   "metadata": {},
   "outputs": [
    {
     "name": "stdin",
     "output_type": "stream",
     "text": [
      "How many numbers you want to enter- 2\n",
      "Input the number- 2\n"
     ]
    },
    {
     "name": "stdout",
     "output_type": "stream",
     "text": [
      "Entered numbers- [2]\n"
     ]
    },
    {
     "name": "stdin",
     "output_type": "stream",
     "text": [
      "Input the number- 2\n"
     ]
    },
    {
     "name": "stdout",
     "output_type": "stream",
     "text": [
      "Entered numbers- [2, 2]\n",
      "2.0\n"
     ]
    }
   ],
   "source": [
    "#find average of given no's\n",
    "def average(nums):\n",
    "    total=0\n",
    "    for j in range(0,len(nums)):\n",
    "        total+=nums[j]\n",
    "    print(total/len(nums))\n",
    "l=[]\n",
    "leng=int(input('How many numbers you want to enter-'))\n",
    "for i in range(0,leng):\n",
    "    num=int(input('Input the number-'))\n",
    "    l.append(num)\n",
    "    print('Entered numbers-',l)\n",
    "average(l)"
   ]
  },
  {
   "cell_type": "code",
   "execution_count": null,
   "id": "fc10b424-9503-4798-9576-d4042d711e89",
   "metadata": {},
   "outputs": [],
   "source": []
  }
 ],
 "metadata": {
  "kernelspec": {
   "display_name": "Python 3 (ipykernel)",
   "language": "python",
   "name": "python3"
  },
  "language_info": {
   "codemirror_mode": {
    "name": "ipython",
    "version": 3
   },
   "file_extension": ".py",
   "mimetype": "text/x-python",
   "name": "python",
   "nbconvert_exporter": "python",
   "pygments_lexer": "ipython3",
   "version": "3.9.12"
  }
 },
 "nbformat": 4,
 "nbformat_minor": 5
}
