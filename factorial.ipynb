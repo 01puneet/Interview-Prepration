{
 "cells": [
  {
   "cell_type": "code",
   "execution_count": 8,
   "id": "d0b5b6ab-4603-42fc-ba1b-7cec932e90a7",
   "metadata": {},
   "outputs": [
    {
     "name": "stdin",
     "output_type": "stream",
     "text": [
      "Enter Given Number To Get Factorial- 2\n"
     ]
    },
    {
     "name": "stdout",
     "output_type": "stream",
     "text": [
      "2\n"
     ]
    }
   ],
   "source": [
    "#factorial of any given number\n",
    "\"\"\"\n",
    "(N-1)! = N! / N (Formulla)\n",
    "2! = 3! / 3 = 6 / 3 = 2\n",
    "1! = 2! / 2 = 2 / 2 = 1\n",
    "0! = 1! / 1 = 1 / 1 = 1\n",
    "\"\"\"\n",
    "class Solution:\n",
    "    def factorial(self,number):\n",
    "        fact=1 #initializing factorial variable initially 1\n",
    "        if number >0:#condition to check if number is greater than 0\n",
    "            for i in range(number,1,-1): #loop from given number to 1\n",
    "                fact *=i   # multiply fact with number & store back in fact\n",
    "            return fact #return final value\n",
    "        else:\n",
    "            return 1 #because factorial of 0 is 1\n",
    "            \n",
    "       \n",
    "            \n",
    "obj=Solution()\n",
    "num=int(input(\"Enter Given Number To Get Factorial-\"))\n",
    "print(obj.factorial(num))"
   ]
  },
  {
   "cell_type": "code",
   "execution_count": null,
   "id": "bd052e97-841b-45c6-bdbb-aa163be9d2b4",
   "metadata": {},
   "outputs": [],
   "source": []
  }
 ],
 "metadata": {
  "kernelspec": {
   "display_name": "Python 3 (ipykernel)",
   "language": "python",
   "name": "python3"
  },
  "language_info": {
   "codemirror_mode": {
    "name": "ipython",
    "version": 3
   },
   "file_extension": ".py",
   "mimetype": "text/x-python",
   "name": "python",
   "nbconvert_exporter": "python",
   "pygments_lexer": "ipython3",
   "version": "3.9.12"
  }
 },
 "nbformat": 4,
 "nbformat_minor": 5
}
