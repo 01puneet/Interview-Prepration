{
 "cells": [
  {
   "cell_type": "markdown",
   "id": "71f073cf-c420-4c2f-ad34-05c752169d51",
   "metadata": {},
   "source": [
    "<h3>Remove duplicate character from string<h3>\n",
    "    <h4>Below method will keep one occurance of given character & remove all the duplicates</h4>\n"
   ]
  },
  {
   "cell_type": "code",
   "execution_count": 40,
   "id": "d8dee15d-2c32-48c7-a45b-dccd1987618f",
   "metadata": {},
   "outputs": [
    {
     "name": "stdin",
     "output_type": "stream",
     "text": [
      "Enter any given string- pupupu\n",
      "Enter the character which is duplicate & you want to remove- u\n"
     ]
    },
    {
     "name": "stdout",
     "output_type": "stream",
     "text": [
      "pupp\n"
     ]
    }
   ],
   "source": [
    "def remove(str,c):\n",
    "    s=[]#empty list for appending characters other than c\n",
    "    l=[]#stores position of given character & its duplicates\n",
    "    final=''#final string which is empty\n",
    "    for i in range(0,len(str)):#loop the string from 0 to length\n",
    "        if str[i]==c:#if str[i] matches with given character\n",
    "            l.append(i)#append position of that character\n",
    "        else:\n",
    "            s.append(str[i])#append the characters which not match with given char.\n",
    "  \n",
    "    position=int(l[0])#if character is only once then get its position\n",
    "    s.insert(position,c)#insert back given character at original position\n",
    "    #now this will help to eliminate the given character if its repeating\n",
    "    return final.join(s)#join list with final string\n",
    "    \n",
    "str=input('Enter any given string-')\n",
    "c=input('Enter the character which is duplicate & you want to remove-')\n",
    "if c in str:\n",
    "    #calls only if character is present\n",
    "    print(remove(str,c))#calling function\n",
    "else:\n",
    "    print(\"Given character not in string\")"
   ]
  }
 ],
 "metadata": {
  "kernelspec": {
   "display_name": "Python 3 (ipykernel)",
   "language": "python",
   "name": "python3"
  },
  "language_info": {
   "codemirror_mode": {
    "name": "ipython",
    "version": 3
   },
   "file_extension": ".py",
   "mimetype": "text/x-python",
   "name": "python",
   "nbconvert_exporter": "python",
   "pygments_lexer": "ipython3",
   "version": "3.9.12"
  }
 },
 "nbformat": 4,
 "nbformat_minor": 5
}
