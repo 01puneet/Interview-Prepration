{
 "cells": [
  {
   "cell_type": "code",
   "execution_count": 3,
   "id": "86b67917-c3ec-4f60-97d3-0b4c9e7ea539",
   "metadata": {},
   "outputs": [
    {
     "data": {
      "text/plain": [
       "[10, 20, 30]"
      ]
     },
     "execution_count": 3,
     "metadata": {},
     "output_type": "execute_result"
    }
   ],
   "source": [
    "\"output should be 10, 20, 30\"\n",
    "class solution:\n",
    "    def remove_duplicates(self, l):\n",
    "        result=[]# creating final empty list.\n",
    "        for i in l:#looping the list\n",
    "            if l.count(i)>1 and i not in result: # if count is greater than 1 & element not in result\n",
    "                result.append(i)#then only append\n",
    "        return result\n",
    "        \n",
    "l=[10,20,30,10,20,30,10,20,30,40,50]   \n",
    "obj=solution()\n",
    "obj.remove_duplicates(l)"
   ]
  },
  {
   "cell_type": "code",
   "execution_count": null,
   "id": "b655e4fb-f98b-4e79-9450-136c1249f19f",
   "metadata": {},
   "outputs": [],
   "source": []
  }
 ],
 "metadata": {
  "kernelspec": {
   "display_name": "Python 3 (ipykernel)",
   "language": "python",
   "name": "python3"
  },
  "language_info": {
   "codemirror_mode": {
    "name": "ipython",
    "version": 3
   },
   "file_extension": ".py",
   "mimetype": "text/x-python",
   "name": "python",
   "nbconvert_exporter": "python",
   "pygments_lexer": "ipython3",
   "version": "3.9.12"
  }
 },
 "nbformat": 4,
 "nbformat_minor": 5
}
