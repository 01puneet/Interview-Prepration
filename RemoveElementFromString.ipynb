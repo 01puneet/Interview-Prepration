{
 "cells": [
  {
   "cell_type": "code",
   "execution_count": 27,
   "id": "1668effd-df4f-49a6-b499-ffa5cd37f916",
   "metadata": {},
   "outputs": [
    {
     "name": "stdout",
     "output_type": "stream",
     "text": [
      "String after element removal h\n"
     ]
    }
   ],
   "source": [
    "#solution 1\n",
    "s='hi'\n",
    "getcharacter='i'\n",
    "updated_str=s.replace(getcharacter,'')\n",
    "print('String after element removal:',updated_str)"
   ]
  },
  {
   "cell_type": "code",
   "execution_count": 23,
   "id": "549ff3fd-5266-44b2-8f58-1c4438e2d991",
   "metadata": {},
   "outputs": [
    {
     "name": "stdin",
     "output_type": "stream",
     "text": [
      "Enter the string pun\n",
      "Enter the character to remove= n\n"
     ]
    },
    {
     "name": "stdout",
     "output_type": "stream",
     "text": [
      "String after removing given character: pu\n"
     ]
    }
   ],
   "source": [
    "#solution 2\n",
    "def remove_element(str):\n",
    "    get_character=input('Enter the character to remove=')#get character from user to remove\n",
    "    l=[] #declare empty list\n",
    "    updated_str=''#declare empty string\n",
    "    for i in str: #loop the element in string\n",
    "        l.append(i)#add the string characters in list as elements\n",
    "    if get_character in l:#if character is present in list\n",
    "        l.remove(get_character)#remove given character\n",
    "        for j in l:#loop the elements in list\n",
    "            updated_str=updated_str+j#concatenate the updated string & elements of list after removing character\n",
    "        print('String after removing given character:',updated_str)#print updated string\n",
    "    else:#runs if element not present in string\n",
    "        print( 'Element Not in string')\n",
    "    \n",
    "s=input('Enter the string')#taking string as input from user\n",
    "str=s.strip()\n",
    "if len(s) != 0:#will run if length of string>0\n",
    "    remove_element(str)#calling the function\n",
    "else:#runs if string is empty\n",
    "    print('String is Empty')"
   ]
  },
  {
   "cell_type": "code",
   "execution_count": null,
   "id": "ca09fae2-bc1a-4722-bb75-2392acc2f017",
   "metadata": {},
   "outputs": [],
   "source": []
  }
 ],
 "metadata": {
  "kernelspec": {
   "display_name": "Python 3 (ipykernel)",
   "language": "python",
   "name": "python3"
  },
  "language_info": {
   "codemirror_mode": {
    "name": "ipython",
    "version": 3
   },
   "file_extension": ".py",
   "mimetype": "text/x-python",
   "name": "python",
   "nbconvert_exporter": "python",
   "pygments_lexer": "ipython3",
   "version": "3.9.12"
  }
 },
 "nbformat": 4,
 "nbformat_minor": 5
}
