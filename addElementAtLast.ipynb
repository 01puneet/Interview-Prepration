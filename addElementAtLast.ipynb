{
 "cells": [
  {
   "cell_type": "code",
   "execution_count": 7,
   "id": "d154aa7a-3a3f-4b04-914f-c203ce6c80c9",
   "metadata": {},
   "outputs": [
    {
     "name": "stdin",
     "output_type": "stream",
     "text": [
      "Enter Element To Insert= 66\n"
     ]
    },
    {
     "name": "stdout",
     "output_type": "stream",
     "text": [
      "[22, 33, 44, 66]\n"
     ]
    }
   ],
   "source": [
    "class Solution:\n",
    "    def addelement(self,element,array):\n",
    "        array.append(element)\n",
    "        return array\n",
    "array=[22,33,44]\n",
    "element=int(input(\"Enter Element To Insert=\"))\n",
    "obj=Solution()\n",
    "print(obj.addelement(element, array))"
   ]
  },
  {
   "cell_type": "code",
   "execution_count": null,
   "id": "3c879c43-6d8e-4133-93c6-08e46206ae59",
   "metadata": {},
   "outputs": [],
   "source": []
  }
 ],
 "metadata": {
  "kernelspec": {
   "display_name": "Python 3 (ipykernel)",
   "language": "python",
   "name": "python3"
  },
  "language_info": {
   "codemirror_mode": {
    "name": "ipython",
    "version": 3
   },
   "file_extension": ".py",
   "mimetype": "text/x-python",
   "name": "python",
   "nbconvert_exporter": "python",
   "pygments_lexer": "ipython3",
   "version": "3.9.12"
  }
 },
 "nbformat": 4,
 "nbformat_minor": 5
}
