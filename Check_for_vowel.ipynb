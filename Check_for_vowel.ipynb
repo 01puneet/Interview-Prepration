{
 "cells": [
  {
   "cell_type": "markdown",
   "id": "a8a141e3-74e1-46e5-8765-3d8a6da54aa1",
   "metadata": {},
   "source": [
    "<h3>check a character is vowel or consonant<h3>"
   ]
  },
  {
   "cell_type": "code",
   "execution_count": 8,
   "id": "4bccaf44-1914-4a49-820a-18615a621f65",
   "metadata": {},
   "outputs": [
    {
     "name": "stdout",
     "output_type": "stream",
     "text": [
      "Always Checks for first character only.\n"
     ]
    },
    {
     "name": "stdin",
     "output_type": "stream",
     "text": [
      "Enter any character- i\n"
     ]
    },
    {
     "name": "stdout",
     "output_type": "stream",
     "text": [
      "Entered character i is vowel\n"
     ]
    }
   ],
   "source": [
    "def Check_vowel(char):\n",
    "    if c[0] in vowels:\n",
    "        print('Entered character {} is vowel'.format(c[0]))\n",
    "    else:\n",
    "        print('Entered Character {} is Consonant'.format(c[0]))\n",
    "        \n",
    "print('Always Checks for first character only.')\n",
    "char=input('Enter any character-')\n",
    "c=char.strip().lower()\n",
    "if len(c)>=1:\n",
    "    Check_vowel(c)\n",
    "else:\n",
    "    print('string is empty')"
   ]
  },
  {
   "cell_type": "code",
   "execution_count": null,
   "id": "fced4e8c-ab7a-4153-a179-d6be7359b57b",
   "metadata": {},
   "outputs": [],
   "source": []
  }
 ],
 "metadata": {
  "kernelspec": {
   "display_name": "Python 3 (ipykernel)",
   "language": "python",
   "name": "python3"
  },
  "language_info": {
   "codemirror_mode": {
    "name": "ipython",
    "version": 3
   },
   "file_extension": ".py",
   "mimetype": "text/x-python",
   "name": "python",
   "nbconvert_exporter": "python",
   "pygments_lexer": "ipython3",
   "version": "3.9.12"
  }
 },
 "nbformat": 4,
 "nbformat_minor": 5
}
